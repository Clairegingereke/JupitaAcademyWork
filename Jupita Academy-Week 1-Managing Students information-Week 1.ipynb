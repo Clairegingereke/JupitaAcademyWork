{
 "cells": [
  {
   "cell_type": "code",
   "execution_count": 1,
   "id": "b7868e2c",
   "metadata": {},
   "outputs": [
    {
     "data": {
      "text/plain": [
       "83"
      ]
     },
     "execution_count": 1,
     "metadata": {},
     "output_type": "execute_result"
    }
   ],
   "source": [
    "grades = [25,30,28]\n",
    "Totals = sum(grades)\n",
    "Totals"
   ]
  },
  {
   "cell_type": "code",
   "execution_count": 32,
   "id": "643ccf63",
   "metadata": {},
   "outputs": [
    {
     "name": "stdout",
     "output_type": "stream",
     "text": [
      "The Average number of students per grade is: 27.67\n"
     ]
    }
   ],
   "source": [
    "Average = Totals/len(grades)\n",
    "Avg = round(Average,2)\n",
    "Avg\n",
    "print('The Average number of students per grade is: {}'.format(Avg))"
   ]
  },
  {
   "cell_type": "code",
   "execution_count": 14,
   "id": "d1172664",
   "metadata": {},
   "outputs": [],
   "source": [
    "Grade1_message = \"Welcome to Grade 1! We are excited to have you.\"\n",
    "Grade2_message = \"Hello Grade 2 students! Get ready to learn and have fun\"\n",
    "Grade3_message = \"Welcome Grade 3 students. Let's make this a great year of learning.\""
   ]
  },
  {
   "cell_type": "code",
   "execution_count": 15,
   "id": "5b54e207",
   "metadata": {},
   "outputs": [
    {
     "name": "stdout",
     "output_type": "stream",
     "text": [
      "Hello Grade 2 students! Get ready to learn and have fun\n"
     ]
    }
   ],
   "source": [
    "print(Grade2_message)"
   ]
  },
  {
   "cell_type": "code",
   "execution_count": 16,
   "id": "ffb3b566",
   "metadata": {},
   "outputs": [
    {
     "name": "stdout",
     "output_type": "stream",
     "text": [
      "['Grade_1', 'Grade_2', 'Grade_3']\n"
     ]
    }
   ],
   "source": [
    "grade_list = ['Grade_1', 'Grade_2', 'Grade_3']\n",
    "print(grade_list)"
   ]
  },
  {
   "cell_type": "code",
   "execution_count": 17,
   "id": "56e78042",
   "metadata": {},
   "outputs": [],
   "source": [
    "subject_list =[['Math', 'English', 'science'], ['English', 'Science', 'History'], ['Science', 'History', 'Maths']]"
   ]
  },
  {
   "cell_type": "code",
   "execution_count": 18,
   "id": "732f4d65",
   "metadata": {},
   "outputs": [
    {
     "data": {
      "text/plain": [
       "[['Math', 'English', 'science'],\n",
       " ['English', 'Science', 'History'],\n",
       " ['Science', 'History', 'Maths']]"
      ]
     },
     "execution_count": 18,
     "metadata": {},
     "output_type": "execute_result"
    }
   ],
   "source": [
    "subject_list"
   ]
  },
  {
   "cell_type": "code",
   "execution_count": 20,
   "id": "e7f8d5e0",
   "metadata": {},
   "outputs": [],
   "source": [
    "dict = {'Grade_1': ['Mr.Smith', 'Ms.Johnson', 'Mr.Davis'],\n",
    "       'Grade_2': ['Ms.Williams', 'Mr.Davis', 'Ms.Brown'],\n",
    "        'Grade_3': ['Ms.Davis', 'Mr.Johnson', 'Mr.Smith']}"
   ]
  },
  {
   "cell_type": "code",
   "execution_count": 33,
   "id": "0d8a2cf4",
   "metadata": {},
   "outputs": [
    {
     "data": {
      "text/plain": [
       "['Science', 'History', 'Maths']"
      ]
     },
     "execution_count": 33,
     "metadata": {},
     "output_type": "execute_result"
    }
   ],
   "source": [
    "subject_list[2]"
   ]
  },
  {
   "cell_type": "code",
   "execution_count": 35,
   "id": "f8c23628",
   "metadata": {},
   "outputs": [
    {
     "data": {
      "text/plain": [
       "['Ms.Williams', 'Mr.Davis', 'Ms.Brown']"
      ]
     },
     "execution_count": 35,
     "metadata": {},
     "output_type": "execute_result"
    }
   ],
   "source": [
    "dict['Grade_2']"
   ]
  },
  {
   "cell_type": "code",
   "execution_count": null,
   "id": "269ff7be",
   "metadata": {},
   "outputs": [],
   "source": []
  }
 ],
 "metadata": {
  "kernelspec": {
   "display_name": "Python 3 (ipykernel)",
   "language": "python",
   "name": "python3"
  },
  "language_info": {
   "codemirror_mode": {
    "name": "ipython",
    "version": 3
   },
   "file_extension": ".py",
   "mimetype": "text/x-python",
   "name": "python",
   "nbconvert_exporter": "python",
   "pygments_lexer": "ipython3",
   "version": "3.11.5"
  }
 },
 "nbformat": 4,
 "nbformat_minor": 5
}
